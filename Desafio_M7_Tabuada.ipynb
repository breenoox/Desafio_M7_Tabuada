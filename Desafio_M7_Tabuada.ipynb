{
  "nbformat": 4,
  "nbformat_minor": 0,
  "metadata": {
    "colab": {
      "provenance": []
    },
    "kernelspec": {
      "name": "python3",
      "display_name": "Python 3"
    },
    "language_info": {
      "name": "python"
    }
  },
  "cells": [
    {
      "cell_type": "code",
      "execution_count": 53,
      "metadata": {
        "colab": {
          "base_uri": "https://localhost:8080/"
        },
        "id": "puLmp-PCwS_k",
        "outputId": "58e97008-f716-47e1-8a9b-a891a3effdd8"
      },
      "outputs": [
        {
          "output_type": "stream",
          "name": "stdout",
          "text": [
            "Digite um número entre 1 e 10: 11\n",
            "Selecione um número entre 1 e 10.\n"
          ]
        }
      ],
      "source": [
        "def tabuada(num: int):\n",
        "    try:\n",
        "      if (num < 0 or num > 10):\n",
        "        print('Selecione um número entre 1 e 10.')\n",
        "      else:\n",
        "        for i in range(0, 11):\n",
        "          calculo = (i * num)\n",
        "          print(f'{num} x {i} = {calculo}')\n",
        "    except ValueError:\n",
        "      print('Entrada inválida')\n",
        "\n",
        "try:\n",
        "  numero = int(input('Digite um número entre 1 e 10: '))\n",
        "  tabuada(numero)\n",
        "except ValueError:\n",
        "  print('Entrada inválida. Por favor, digite um número válido.')"
      ]
    }
  ]
}